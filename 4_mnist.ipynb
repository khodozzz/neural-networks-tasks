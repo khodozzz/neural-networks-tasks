{
  "nbformat": 4,
  "nbformat_minor": 0,
  "metadata": {
    "colab": {
      "name": "4_mnist.ipynb",
      "provenance": [],
      "authorship_tag": "ABX9TyN+GbfXhqAsUdtCjuPhp7ss",
      "include_colab_link": true
    },
    "kernelspec": {
      "name": "python3",
      "display_name": "Python 3"
    },
    "language_info": {
      "name": "python"
    }
  },
  "cells": [
    {
      "cell_type": "markdown",
      "metadata": {
        "id": "view-in-github",
        "colab_type": "text"
      },
      "source": [
        "<a href=\"https://colab.research.google.com/github/khodozzz/neural-networks-tasks/blob/main/4_mnist.ipynb\" target=\"_parent\"><img src=\"https://colab.research.google.com/assets/colab-badge.svg\" alt=\"Open In Colab\"/></a>"
      ]
    },
    {
      "cell_type": "code",
      "metadata": {
        "id": "bTAKN1dCHkrM"
      },
      "source": [
        "import tensorflow as tf\n",
        "\n",
        "mnist = tf.keras.datasets.mnist\n",
        "(train_images, train_labels),(test_images, test_labels) = mnist.load_data()"
      ],
      "execution_count": 9,
      "outputs": []
    },
    {
      "cell_type": "code",
      "metadata": {
        "colab": {
          "base_uri": "https://localhost:8080/",
          "height": 282
        },
        "id": "5PxB2UnVLlPD",
        "outputId": "5dbeea30-04a2-4cf1-a595-543ef6a34964"
      },
      "source": [
        "import matplotlib.pyplot as plt\n",
        "\n",
        "plt.imshow(train_images[0],cmap=plt.cm.binary)\n",
        "plt.show()\n",
        "\n",
        "print(train_labels[0])"
      ],
      "execution_count": 10,
      "outputs": [
        {
          "output_type": "display_data",
          "data": {
            "image/png": "[encoded data removed]",
            "text/plain": [
              "<Figure size 432x288 with 1 Axes>"
            ]
          },
          "metadata": {
            "tags": [],
            "needs_background": "light"
          }
        },
        {
          "output_type": "stream",
          "text": [
            "5\n"
          ],
          "name": "stdout"
        }
      ]
    },
    {
      "cell_type": "code",
      "metadata": {
        "id": "xUKtIwkVLljG"
      },
      "source": [
        "train_images = train_images / 255.0\n",
        "test_images = test_images / 255.0"
      ],
      "execution_count": 11,
      "outputs": []
    },
    {
      "cell_type": "code",
      "metadata": {
        "id": "zAW-18ctLlmV"
      },
      "source": [
        "from tensorflow.keras.utils import to_categorical\n",
        "\n",
        "train_labels = to_categorical(train_labels)\n",
        "test_labels = to_categorical(test_labels)"
      ],
      "execution_count": 12,
      "outputs": []
    },
    {
      "cell_type": "markdown",
      "metadata": {
        "id": "DWe81p9cE451"
      },
      "source": [
        "Модель"
      ]
    },
    {
      "cell_type": "code",
      "metadata": {
        "id": "bc-AKljHaoYy"
      },
      "source": [
        "from tensorflow.keras.layers import Dense, Activation, Flatten, Conv2D, Dropout, MaxPool2D\n",
        "from tensorflow.keras.models import Sequential"
      ],
      "execution_count": 13,
      "outputs": []
    },
    {
      "cell_type": "code",
      "metadata": {
        "id": "7Eb3ixUvRoqU"
      },
      "source": [
        "def build_model(opt):\n",
        "    model = Sequential([\n",
        "        Flatten(),\n",
        "        Dense(1024,activation='relu'),\n",
        "        Dropout(0.2),\n",
        "        Dense(10,activation='softmax')\n",
        "    ])\n",
        "    model.compile(optimizer=opt, loss='categorical_crossentropy', metrics=['accuracy'])\n",
        "    return model"
      ],
      "execution_count": 14,
      "outputs": []
    },
    {
      "cell_type": "markdown",
      "metadata": {
        "id": "qxIVDAkYRoz0"
      },
      "source": [
        "Исследовать влияние различных оптимизаторов, а также их параметров, на процесс обучения"
      ]
    },
    {
      "cell_type": "code",
      "metadata": {
        "colab": {
          "base_uri": "https://localhost:8080/"
        },
        "id": "E1-XtOJER8UY",
        "outputId": "e67ec76a-4cf2-4358-fef8-ec749ca4c73d"
      },
      "source": [
        "opts = ['adadelta', 'adagrad', 'adam', 'adamax', 'ftrl', 'nadam', 'rmsprop', 'sgd']\n",
        "\n",
        "for opt in opts:\n",
        "    print(opt)\n",
        "    model = build_model(opt)\n",
        "    %time model.fit(train_images, train_labels, validation_data=(test_images, test_labels), epochs=4, batch_size=128)\n",
        "    print()"
      ],
      "execution_count": 16,
      "outputs": [
        {
          "output_type": "stream",
          "text": [
            "adadelta\n",
            "Epoch 1/4\n",
            "469/469 [==============================] - 8s 17ms/step - loss: 2.2441 - accuracy: 0.1706 - val_loss: 2.1370 - val_accuracy: 0.2741\n",
            "Epoch 2/4\n",
            "469/469 [==============================] - 8s 16ms/step - loss: 2.0579 - accuracy: 0.3566 - val_loss: 1.9550 - val_accuracy: 0.4983\n",
            "Epoch 3/4\n",
            "469/469 [==============================] - 8s 16ms/step - loss: 1.8882 - accuracy: 0.5197 - val_loss: 1.7906 - val_accuracy: 0.6324\n",
            "Epoch 4/4\n",
            "469/469 [==============================] - 8s 16ms/step - loss: 1.7356 - accuracy: 0.6266 - val_loss: 1.6419 - val_accuracy: 0.7109\n",
            "CPU times: user 50.7 s, sys: 1.8 s, total: 52.5 s\n",
            "Wall time: 41.5 s\n",
            "\n",
            "adagrad\n",
            "Epoch 1/4\n",
            "469/469 [==============================] - 8s 15ms/step - loss: 1.7060 - accuracy: 0.5837 - val_loss: 1.2067 - val_accuracy: 0.8057\n",
            "Epoch 2/4\n",
            "469/469 [==============================] - 7s 15ms/step - loss: 1.0168 - accuracy: 0.8041 - val_loss: 0.8077 - val_accuracy: 0.8480\n",
            "Epoch 3/4\n",
            "469/469 [==============================] - 7s 15ms/step - loss: 0.7558 - accuracy: 0.8385 - val_loss: 0.6403 - val_accuracy: 0.8674\n",
            "Epoch 4/4\n",
            "469/469 [==============================] - 7s 15ms/step - loss: 0.6339 - accuracy: 0.8540 - val_loss: 0.5518 - val_accuracy: 0.8786\n",
            "CPU times: user 46.4 s, sys: 1.8 s, total: 48.2 s\n",
            "Wall time: 29.3 s\n",
            "\n",
            "adam\n",
            "Epoch 1/4\n",
            "469/469 [==============================] - 8s 16ms/step - loss: 0.2483 - accuracy: 0.9282 - val_loss: 0.1204 - val_accuracy: 0.9642\n",
            "Epoch 2/4\n",
            "469/469 [==============================] - 7s 16ms/step - loss: 0.1006 - accuracy: 0.9704 - val_loss: 0.0802 - val_accuracy: 0.9756\n",
            "Epoch 3/4\n",
            "469/469 [==============================] - 7s 15ms/step - loss: 0.0685 - accuracy: 0.9800 - val_loss: 0.0755 - val_accuracy: 0.9766\n",
            "Epoch 4/4\n",
            "469/469 [==============================] - 7s 16ms/step - loss: 0.0507 - accuracy: 0.9847 - val_loss: 0.0649 - val_accuracy: 0.9807\n",
            "CPU times: user 47.9 s, sys: 1.77 s, total: 49.6 s\n",
            "Wall time: 29.9 s\n",
            "\n",
            "adamax\n",
            "Epoch 1/4\n",
            "469/469 [==============================] - 8s 16ms/step - loss: 0.3320 - accuracy: 0.9075 - val_loss: 0.1928 - val_accuracy: 0.9458\n",
            "Epoch 2/4\n",
            "469/469 [==============================] - 7s 16ms/step - loss: 0.1709 - accuracy: 0.9517 - val_loss: 0.1342 - val_accuracy: 0.9621\n",
            "Epoch 3/4\n",
            "469/469 [==============================] - 8s 16ms/step - loss: 0.1258 - accuracy: 0.9645 - val_loss: 0.1102 - val_accuracy: 0.9680\n",
            "Epoch 4/4\n",
            "469/469 [==============================] - 8s 16ms/step - loss: 0.0995 - accuracy: 0.9726 - val_loss: 0.0957 - val_accuracy: 0.9722\n",
            "CPU times: user 49.4 s, sys: 1.91 s, total: 51.3 s\n",
            "Wall time: 41.7 s\n",
            "\n",
            "ftrl\n",
            "Epoch 1/4\n",
            "469/469 [==============================] - 10s 20ms/step - loss: 2.3027 - accuracy: 0.1118 - val_loss: 2.3023 - val_accuracy: 0.1135\n",
            "Epoch 2/4\n",
            "469/469 [==============================] - 9s 20ms/step - loss: 2.3023 - accuracy: 0.1124 - val_loss: 2.3022 - val_accuracy: 0.1135\n",
            "Epoch 3/4\n",
            "469/469 [==============================] - 9s 20ms/step - loss: 2.3021 - accuracy: 0.1124 - val_loss: 2.3019 - val_accuracy: 0.1135\n",
            "Epoch 4/4\n",
            "469/469 [==============================] - 9s 20ms/step - loss: 2.3017 - accuracy: 0.1124 - val_loss: 2.3013 - val_accuracy: 0.1135\n",
            "CPU times: user 1min, sys: 1.92 s, total: 1min 2s\n",
            "Wall time: 41.5 s\n",
            "\n",
            "nadam\n",
            "Epoch 1/4\n",
            "469/469 [==============================] - 12s 23ms/step - loss: 0.2523 - accuracy: 0.9277 - val_loss: 0.1154 - val_accuracy: 0.9667\n",
            "Epoch 2/4\n",
            "469/469 [==============================] - 11s 23ms/step - loss: 0.1007 - accuracy: 0.9700 - val_loss: 0.0811 - val_accuracy: 0.9742\n",
            "Epoch 3/4\n",
            "469/469 [==============================] - 11s 23ms/step - loss: 0.0672 - accuracy: 0.9804 - val_loss: 0.0761 - val_accuracy: 0.9774\n",
            "Epoch 4/4\n",
            "469/469 [==============================] - 11s 24ms/step - loss: 0.0484 - accuracy: 0.9852 - val_loss: 0.0630 - val_accuracy: 0.9793\n",
            "CPU times: user 1min 12s, sys: 3.11 s, total: 1min 15s\n",
            "Wall time: 44.7 s\n",
            "\n",
            "rmsprop\n",
            "Epoch 1/4\n",
            "469/469 [==============================] - 10s 20ms/step - loss: 0.2445 - accuracy: 0.9278 - val_loss: 0.1164 - val_accuracy: 0.9630\n",
            "Epoch 2/4\n",
            "469/469 [==============================] - 9s 20ms/step - loss: 0.0998 - accuracy: 0.9703 - val_loss: 0.0892 - val_accuracy: 0.9711\n",
            "Epoch 3/4\n",
            "469/469 [==============================] - 9s 19ms/step - loss: 0.0702 - accuracy: 0.9790 - val_loss: 0.0776 - val_accuracy: 0.9760\n",
            "Epoch 4/4\n",
            "469/469 [==============================] - 9s 19ms/step - loss: 0.0527 - accuracy: 0.9837 - val_loss: 0.0784 - val_accuracy: 0.9760\n",
            "CPU times: user 58.9 s, sys: 2.54 s, total: 1min 1s\n",
            "Wall time: 37.2 s\n",
            "\n",
            "sgd\n",
            "Epoch 1/4\n",
            "469/469 [==============================] - 7s 15ms/step - loss: 1.0821 - accuracy: 0.7485 - val_loss: 0.5823 - val_accuracy: 0.8713\n",
            "Epoch 2/4\n",
            "469/469 [==============================] - 7s 15ms/step - loss: 0.5242 - accuracy: 0.8688 - val_loss: 0.4254 - val_accuracy: 0.8927\n",
            "Epoch 3/4\n",
            "469/469 [==============================] - 7s 14ms/step - loss: 0.4274 - accuracy: 0.8856 - val_loss: 0.3685 - val_accuracy: 0.9038\n",
            "Epoch 4/4\n",
            "469/469 [==============================] - 7s 14ms/step - loss: 0.3818 - accuracy: 0.8960 - val_loss: 0.3364 - val_accuracy: 0.9083\n",
            "CPU times: user 43.5 s, sys: 1.72 s, total: 45.2 s\n",
            "Wall time: 41.4 s\n",
            "\n"
          ],
          "name": "stdout"
        }
      ]
    },
    {
      "cell_type": "markdown",
      "metadata": {
        "id": "MtcnUj2WRqL9"
      },
      "source": [
        "Написать функцию, которая позволит загружать пользовательское изображение не из датасета"
      ]
    },
    {
      "cell_type": "code",
      "metadata": {
        "colab": {
          "base_uri": "https://localhost:8080/"
        },
        "id": "8lYiFfopWi0H",
        "outputId": "ac1c50c3-7a8c-4d81-d15a-c8d38251f7cd"
      },
      "source": [
        "model = build_model('adam')\n",
        "model.fit(train_images, train_labels, validation_data=(test_images, test_labels), epochs=10, batch_size=128)"
      ],
      "execution_count": 17,
      "outputs": [
        {
          "output_type": "stream",
          "text": [
            "Epoch 1/10\n",
            "469/469 [==============================] - 8s 16ms/step - loss: 0.2482 - accuracy: 0.9280 - val_loss: 0.1150 - val_accuracy: 0.9648\n",
            "Epoch 2/10\n",
            "469/469 [==============================] - 7s 16ms/step - loss: 0.1009 - accuracy: 0.9705 - val_loss: 0.0905 - val_accuracy: 0.9721\n",
            "Epoch 3/10\n",
            "469/469 [==============================] - 7s 16ms/step - loss: 0.0684 - accuracy: 0.9788 - val_loss: 0.0744 - val_accuracy: 0.9766\n",
            "Epoch 4/10\n",
            "469/469 [==============================] - 7s 15ms/step - loss: 0.0494 - accuracy: 0.9849 - val_loss: 0.0708 - val_accuracy: 0.9774\n",
            "Epoch 5/10\n",
            "469/469 [==============================] - 7s 15ms/step - loss: 0.0389 - accuracy: 0.9883 - val_loss: 0.0646 - val_accuracy: 0.9801\n",
            "Epoch 6/10\n",
            "469/469 [==============================] - 7s 16ms/step - loss: 0.0311 - accuracy: 0.9904 - val_loss: 0.0648 - val_accuracy: 0.9789\n",
            "Epoch 7/10\n",
            "469/469 [==============================] - 7s 15ms/step - loss: 0.0248 - accuracy: 0.9925 - val_loss: 0.0628 - val_accuracy: 0.9810\n",
            "Epoch 8/10\n",
            "469/469 [==============================] - 7s 15ms/step - loss: 0.0194 - accuracy: 0.9941 - val_loss: 0.0575 - val_accuracy: 0.9826\n",
            "Epoch 9/10\n",
            "469/469 [==============================] - 7s 16ms/step - loss: 0.0169 - accuracy: 0.9948 - val_loss: 0.0626 - val_accuracy: 0.9812\n",
            "Epoch 10/10\n",
            "469/469 [==============================] - 7s 16ms/step - loss: 0.0145 - accuracy: 0.9955 - val_loss: 0.0642 - val_accuracy: 0.9823\n"
          ],
          "name": "stdout"
        },
        {
          "output_type": "execute_result",
          "data": {
            "text/plain": [
              "<tensorflow.python.keras.callbacks.History at 0x7f2626a81c90>"
            ]
          },
          "metadata": {
            "tags": []
          },
          "execution_count": 17
        }
      ]
    },
    {
      "cell_type": "code",
      "metadata": {
        "id": "gig5_X5jUAXC"
      },
      "source": [
        "from tensorflow.keras.preprocessing import image\n",
        "from skimage.color import rgb2gray\n",
        "import numpy as np\n",
        "\n",
        "def upload_digit(file_name):\n",
        "    img = image.load_img(file_name, target_size=(28, 28))\n",
        "\n",
        "    dig = image.img_to_array(img)\n",
        "    dig = 1 - (rgb2gray(dig) / 255)\n",
        "\n",
        "    plt.imshow(dig, cmap=plt.cm.binary)\n",
        "    plt.show()\n",
        "\n",
        "    dig = np.expand_dims(dig, axis=0)\n",
        "    dig = np.vstack([dig])  \n",
        "\n",
        "    return dig\n"
      ],
      "execution_count": 18,
      "outputs": []
    },
    {
      "cell_type": "code",
      "metadata": {
        "colab": {
          "base_uri": "https://localhost:8080/",
          "height": 282
        },
        "id": "NWX5QQZzUXXg",
        "outputId": "0c199460-7ec8-4465-de84-39de95fc5201"
      },
      "source": [
        "dig3 = upload_digit('3.png')\n",
        "\n",
        "classes = model.predict(dig3)\n",
        "np.argmax(classes)"
      ],
      "execution_count": 23,
      "outputs": [
        {
          "output_type": "display_data",
          "data": {
            "image/png": "[encoded data removed]",
            "text/plain": [
              "<Figure size 432x288 with 1 Axes>"
            ]
          },
          "metadata": {
            "tags": [],
            "needs_background": "light"
          }
        },
        {
          "output_type": "execute_result",
          "data": {
            "text/plain": [
              "3"
            ]
          },
          "metadata": {
            "tags": []
          },
          "execution_count": 23
        }
      ]
    }
  ]
}