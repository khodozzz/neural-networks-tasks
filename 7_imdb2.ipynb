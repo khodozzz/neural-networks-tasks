{
  "nbformat": 4,
  "nbformat_minor": 0,
  "metadata": {
    "accelerator": "GPU",
    "colab": {
      "name": "7_imdb2.ipynb",
      "provenance": [],
      "authorship_tag": "ABX9TyPlD9H7vFueVB9XXpdtEzXn",
      "include_colab_link": true
    },
    "kernelspec": {
      "display_name": "Python 3",
      "name": "python3"
    },
    "language_info": {
      "name": "python"
    }
  },
  "cells": [
    {
      "cell_type": "markdown",
      "metadata": {
        "id": "view-in-github",
        "colab_type": "text"
      },
      "source": [
        "<a href=\"https://colab.research.google.com/github/khodozzz/neural-networks-tasks/blob/main/7_imdb2.ipynb\" target=\"_parent\"><img src=\"https://colab.research.google.com/assets/colab-badge.svg\" alt=\"Open In Colab\"/></a>"
      ]
    },
    {
      "cell_type": "markdown",
      "metadata": {
        "id": "J2qrBQaQPGcm"
      },
      "source": [
        "# Loading and preprocessing"
      ]
    },
    {
      "cell_type": "code",
      "metadata": {
        "id": "q79LBDnLl8cQ"
      },
      "source": [
        "import numpy as np\n",
        "from keras import Input\n",
        "from keras.datasets import imdb\n",
        "from keras.models import *\n",
        "from keras.layers import *\n",
        "from keras.layers.embeddings import Embedding\n",
        "from keras.preprocessing import sequence"
      ],
      "execution_count": 1,
      "outputs": []
    },
    {
      "cell_type": "code",
      "metadata": {
        "id": "t5qhWA0shOkH"
      },
      "source": [
        "num_words = 10000\n",
        "embedding_vector_length = 32\n",
        "max_review_length = 500\n",
        "num_epochs = 5"
      ],
      "execution_count": 19,
      "outputs": []
    },
    {
      "cell_type": "code",
      "metadata": {
        "colab": {
          "base_uri": "https://localhost:8080/"
        },
        "id": "9ljlimnLmFYR",
        "outputId": "0b4294c0-33f9-425d-e1fe-4eaed243e475"
      },
      "source": [
        "from keras.datasets import imdb\n",
        "\n",
        "(X_train, y_train), (X_test, y_test) = imdb.load_data(num_words=num_words)"
      ],
      "execution_count": 3,
      "outputs": [
        {
          "output_type": "stream",
          "text": [
            "Downloading data from https://storage.googleapis.com/tensorflow/tf-keras-datasets/imdb.npz\n",
            "17465344/17464789 [==============================] - 0s 0us/step\n",
            "17473536/17464789 [==============================] - 0s 0us/step\n"
          ],
          "name": "stdout"
        },
        {
          "output_type": "stream",
          "text": [
            "<string>:6: VisibleDeprecationWarning: Creating an ndarray from ragged nested sequences (which is a list-or-tuple of lists-or-tuples-or ndarrays with different lengths or shapes) is deprecated. If you meant to do this, you must specify 'dtype=object' when creating the ndarray\n",
            "/usr/local/lib/python3.7/dist-packages/keras/datasets/imdb.py:155: VisibleDeprecationWarning: Creating an ndarray from ragged nested sequences (which is a list-or-tuple of lists-or-tuples-or ndarrays with different lengths or shapes) is deprecated. If you meant to do this, you must specify 'dtype=object' when creating the ndarray\n",
            "  x_train, y_train = np.array(xs[:idx]), np.array(labels[:idx])\n",
            "/usr/local/lib/python3.7/dist-packages/keras/datasets/imdb.py:156: VisibleDeprecationWarning: Creating an ndarray from ragged nested sequences (which is a list-or-tuple of lists-or-tuples-or ndarrays with different lengths or shapes) is deprecated. If you meant to do this, you must specify 'dtype=object' when creating the ndarray\n",
            "  x_test, y_test = np.array(xs[idx:]), np.array(labels[idx:])\n"
          ],
          "name": "stderr"
        }
      ]
    },
    {
      "cell_type": "code",
      "metadata": {
        "id": "t83oKmVYc0BL"
      },
      "source": [
        "X_train = sequence.pad_sequences(X_train, maxlen=max_review_length)\n",
        "X_test = sequence.pad_sequences(X_test, maxlen=max_review_length)"
      ],
      "execution_count": 4,
      "outputs": []
    },
    {
      "cell_type": "markdown",
      "metadata": {
        "id": "jIoo7Ks3e2Ts"
      },
      "source": [
        "# LSTM"
      ]
    },
    {
      "cell_type": "code",
      "metadata": {
        "colab": {
          "base_uri": "https://localhost:8080/"
        },
        "id": "zci62004dML_",
        "outputId": "53a15dee-8ea2-41ce-cc4e-0d0431d71493"
      },
      "source": [
        "model = Sequential()\n",
        "model.add(Embedding(input_dim=num_words, output_dim=embedding_vector_length, input_length=max_review_length))\n",
        "model.add(LSTM(100))\n",
        "model.add(Dense(1, activation='sigmoid'))\n",
        "\n",
        "model.compile(loss='binary_crossentropy', optimizer='adam', metrics=['accuracy'])\n",
        "\n",
        "model.summary()\n"
      ],
      "execution_count": 5,
      "outputs": [
        {
          "output_type": "stream",
          "text": [
            "Model: \"sequential\"\n",
            "_________________________________________________________________\n",
            "Layer (type)                 Output Shape              Param #   \n",
            "=================================================================\n",
            "embedding (Embedding)        (None, 500, 32)           320000    \n",
            "_________________________________________________________________\n",
            "lstm (LSTM)                  (None, 100)               53200     \n",
            "_________________________________________________________________\n",
            "dense (Dense)                (None, 1)                 101       \n",
            "=================================================================\n",
            "Total params: 373,301\n",
            "Trainable params: 373,301\n",
            "Non-trainable params: 0\n",
            "_________________________________________________________________\n"
          ],
          "name": "stdout"
        }
      ]
    },
    {
      "cell_type": "code",
      "metadata": {
        "colab": {
          "base_uri": "https://localhost:8080/"
        },
        "id": "lNO_Oa_ndMOY",
        "outputId": "3bb75073-0d87-4d09-c91f-0b41ea53e48d"
      },
      "source": [
        "model.fit(X_train, y_train, validation_split=0.2, epochs=num_epochs, batch_size=64)\n",
        "\n",
        "scores = model.evaluate(X_test, y_test, verbose=0)\n",
        "\n",
        "print(\"Accuracy: %.2f%%\" % (scores[1]*100))"
      ],
      "execution_count": 6,
      "outputs": [
        {
          "output_type": "stream",
          "text": [
            "Epoch 1/10\n",
            "313/313 [==============================] - 32s 37ms/step - loss: 0.6072 - accuracy: 0.6504 - val_loss: 0.3626 - val_accuracy: 0.8476\n",
            "Epoch 2/10\n",
            "313/313 [==============================] - 10s 32ms/step - loss: 0.2950 - accuracy: 0.8807 - val_loss: 0.3243 - val_accuracy: 0.8620\n",
            "Epoch 3/10\n",
            "313/313 [==============================] - 10s 31ms/step - loss: 0.2311 - accuracy: 0.9140 - val_loss: 0.4344 - val_accuracy: 0.7958\n",
            "Epoch 4/10\n",
            "313/313 [==============================] - 10s 32ms/step - loss: 0.4522 - accuracy: 0.7859 - val_loss: 0.3698 - val_accuracy: 0.8674\n",
            "Epoch 5/10\n",
            "313/313 [==============================] - 10s 32ms/step - loss: 0.1848 - accuracy: 0.9308 - val_loss: 0.3635 - val_accuracy: 0.8510\n",
            "Epoch 6/10\n",
            "313/313 [==============================] - 10s 31ms/step - loss: 0.1509 - accuracy: 0.9487 - val_loss: 0.4014 - val_accuracy: 0.8648\n",
            "Epoch 7/10\n",
            "313/313 [==============================] - 10s 32ms/step - loss: 0.1126 - accuracy: 0.9645 - val_loss: 0.3943 - val_accuracy: 0.8584\n",
            "Epoch 8/10\n",
            "313/313 [==============================] - 10s 31ms/step - loss: 0.1052 - accuracy: 0.9657 - val_loss: 0.4595 - val_accuracy: 0.8414\n",
            "Epoch 9/10\n",
            "313/313 [==============================] - 10s 31ms/step - loss: 0.1075 - accuracy: 0.9645 - val_loss: 0.5013 - val_accuracy: 0.8406\n",
            "Epoch 10/10\n",
            "313/313 [==============================] - 10s 31ms/step - loss: 0.0813 - accuracy: 0.9746 - val_loss: 0.5349 - val_accuracy: 0.8492\n",
            "Accuracy: 84.56%\n"
          ],
          "name": "stdout"
        }
      ]
    },
    {
      "cell_type": "markdown",
      "metadata": {
        "id": "6GC1LrBse4wN"
      },
      "source": [
        "# LSTM + Conv"
      ]
    },
    {
      "cell_type": "code",
      "metadata": {
        "colab": {
          "base_uri": "https://localhost:8080/"
        },
        "id": "vtguYFC5dMQ4",
        "outputId": "7adb53e4-9eee-4d61-f9ca-8c5264be0471"
      },
      "source": [
        "model = Sequential()\n",
        "model.add(Embedding(input_dim=num_words, output_dim=embedding_vector_length, input_length=max_review_length))\n",
        "model.add(Conv1D(filters=32, kernel_size=3, padding='same', activation='relu'))\n",
        "model.add(MaxPooling1D(pool_size=2))\n",
        "model.add(LSTM(100))\n",
        "model.add(Dense(1, activation='sigmoid'))\n",
        "\n",
        "model.compile(loss='binary_crossentropy', optimizer='adam', metrics=['accuracy'])\n",
        "\n",
        "model.summary()"
      ],
      "execution_count": 7,
      "outputs": [
        {
          "output_type": "stream",
          "text": [
            "Model: \"sequential_1\"\n",
            "_________________________________________________________________\n",
            "Layer (type)                 Output Shape              Param #   \n",
            "=================================================================\n",
            "embedding_1 (Embedding)      (None, 500, 32)           320000    \n",
            "_________________________________________________________________\n",
            "conv1d (Conv1D)              (None, 500, 32)           3104      \n",
            "_________________________________________________________________\n",
            "max_pooling1d (MaxPooling1D) (None, 250, 32)           0         \n",
            "_________________________________________________________________\n",
            "lstm_1 (LSTM)                (None, 100)               53200     \n",
            "_________________________________________________________________\n",
            "dense_1 (Dense)              (None, 1)                 101       \n",
            "=================================================================\n",
            "Total params: 376,405\n",
            "Trainable params: 376,405\n",
            "Non-trainable params: 0\n",
            "_________________________________________________________________\n"
          ],
          "name": "stdout"
        }
      ]
    },
    {
      "cell_type": "code",
      "metadata": {
        "colab": {
          "base_uri": "https://localhost:8080/"
        },
        "id": "j7tqK2H5dMTP",
        "outputId": "12c1bbaa-52e3-41db-ee00-69ba9368bc95"
      },
      "source": [
        "model.fit(X_train, y_train, validation_split=0.2, epochs=num_epochs, batch_size=64)\n",
        "\n",
        "scores = model.evaluate(X_test, y_test, verbose=0)\n",
        "\n",
        "print(\"Accuracy: %.2f%%\" % (scores[1]*100))"
      ],
      "execution_count": 8,
      "outputs": [
        {
          "output_type": "stream",
          "text": [
            "Epoch 1/10\n",
            "313/313 [==============================] - 36s 25ms/step - loss: 0.5786 - accuracy: 0.6661 - val_loss: 0.2958 - val_accuracy: 0.8788\n",
            "Epoch 2/10\n",
            "313/313 [==============================] - 7s 22ms/step - loss: 0.2162 - accuracy: 0.9213 - val_loss: 0.2792 - val_accuracy: 0.8898\n",
            "Epoch 3/10\n",
            "313/313 [==============================] - 7s 23ms/step - loss: 0.1385 - accuracy: 0.9552 - val_loss: 0.3359 - val_accuracy: 0.8880\n",
            "Epoch 4/10\n",
            "313/313 [==============================] - 7s 22ms/step - loss: 0.1069 - accuracy: 0.9650 - val_loss: 0.3751 - val_accuracy: 0.8792\n",
            "Epoch 5/10\n",
            "313/313 [==============================] - 7s 23ms/step - loss: 0.0755 - accuracy: 0.9774 - val_loss: 0.4443 - val_accuracy: 0.8744\n",
            "Epoch 6/10\n",
            "313/313 [==============================] - 7s 23ms/step - loss: 0.0553 - accuracy: 0.9848 - val_loss: 0.4765 - val_accuracy: 0.8820\n",
            "Epoch 7/10\n",
            "313/313 [==============================] - 7s 24ms/step - loss: 0.0385 - accuracy: 0.9909 - val_loss: 0.5600 - val_accuracy: 0.8702\n",
            "Epoch 8/10\n",
            "313/313 [==============================] - 8s 25ms/step - loss: 0.0328 - accuracy: 0.9915 - val_loss: 0.5148 - val_accuracy: 0.8682\n",
            "Epoch 9/10\n",
            "313/313 [==============================] - 8s 24ms/step - loss: 0.0256 - accuracy: 0.9934 - val_loss: 0.5824 - val_accuracy: 0.8728\n",
            "Epoch 10/10\n",
            "313/313 [==============================] - 7s 23ms/step - loss: 0.0265 - accuracy: 0.9917 - val_loss: 0.5480 - val_accuracy: 0.8750\n",
            "Accuracy: 86.05%\n"
          ],
          "name": "stdout"
        }
      ]
    },
    {
      "cell_type": "markdown",
      "metadata": {
        "id": "LnHCCYpbf6c2"
      },
      "source": [
        "# LSTM + Conv + Dropout"
      ]
    },
    {
      "cell_type": "code",
      "metadata": {
        "colab": {
          "base_uri": "https://localhost:8080/"
        },
        "id": "5DIo5IKadMV6",
        "outputId": "1c399dad-8894-4bf1-cff9-33b7cdf69c6b"
      },
      "source": [
        "model = Sequential()\n",
        "model.add(Embedding(input_dim=num_words, output_dim=embedding_vector_length, input_length=max_review_length))\n",
        "model.add(Dropout(0.2))\n",
        "model.add(Conv1D(filters=32, kernel_size=3, padding='same', activation='relu'))\n",
        "model.add(MaxPooling1D(pool_size=2))\n",
        "model.add(Dropout(0.2))\n",
        "model.add(LSTM(100))\n",
        "model.add(Dropout(0.2))\n",
        "model.add(Dense(1, activation='sigmoid'))\n",
        "\n",
        "model.compile(loss='binary_crossentropy', optimizer='adam', metrics=['accuracy'])\n",
        "\n",
        "model.summary()"
      ],
      "execution_count": 20,
      "outputs": [
        {
          "output_type": "stream",
          "text": [
            "Model: \"sequential_4\"\n",
            "_________________________________________________________________\n",
            "Layer (type)                 Output Shape              Param #   \n",
            "=================================================================\n",
            "embedding_4 (Embedding)      (None, 500, 32)           320000    \n",
            "_________________________________________________________________\n",
            "dropout_6 (Dropout)          (None, 500, 32)           0         \n",
            "_________________________________________________________________\n",
            "conv1d_3 (Conv1D)            (None, 500, 32)           3104      \n",
            "_________________________________________________________________\n",
            "max_pooling1d_3 (MaxPooling1 (None, 250, 32)           0         \n",
            "_________________________________________________________________\n",
            "dropout_7 (Dropout)          (None, 250, 32)           0         \n",
            "_________________________________________________________________\n",
            "lstm_4 (LSTM)                (None, 100)               53200     \n",
            "_________________________________________________________________\n",
            "dropout_8 (Dropout)          (None, 100)               0         \n",
            "_________________________________________________________________\n",
            "dense_4 (Dense)              (None, 1)                 101       \n",
            "=================================================================\n",
            "Total params: 376,405\n",
            "Trainable params: 376,405\n",
            "Non-trainable params: 0\n",
            "_________________________________________________________________\n"
          ],
          "name": "stdout"
        }
      ]
    },
    {
      "cell_type": "code",
      "metadata": {
        "colab": {
          "base_uri": "https://localhost:8080/"
        },
        "id": "xPo1r9cogSgx",
        "outputId": "b7fe33d6-3bb1-4f51-b058-2a0ef6142078"
      },
      "source": [
        "model.fit(X_train, y_train, validation_split=0.2, epochs=num_epochs, batch_size=64)\n",
        "\n",
        "scores = model.evaluate(X_test, y_test, verbose=0)\n",
        "\n",
        "print(\"Accuracy: %.2f%%\" % (scores[1]*100))"
      ],
      "execution_count": 21,
      "outputs": [
        {
          "output_type": "stream",
          "text": [
            "Epoch 1/5\n",
            "313/313 [==============================] - 10s 25ms/step - loss: 0.6287 - accuracy: 0.6223 - val_loss: 0.3464 - val_accuracy: 0.8554\n",
            "Epoch 2/5\n",
            "313/313 [==============================] - 7s 22ms/step - loss: 0.2721 - accuracy: 0.8906 - val_loss: 0.2768 - val_accuracy: 0.8868\n",
            "Epoch 3/5\n",
            "313/313 [==============================] - 7s 23ms/step - loss: 0.1827 - accuracy: 0.9351 - val_loss: 0.3469 - val_accuracy: 0.8482\n",
            "Epoch 4/5\n",
            "313/313 [==============================] - 7s 22ms/step - loss: 0.1637 - accuracy: 0.9392 - val_loss: 0.3470 - val_accuracy: 0.8736\n",
            "Epoch 5/5\n",
            "313/313 [==============================] - 7s 23ms/step - loss: 0.1139 - accuracy: 0.9610 - val_loss: 0.3221 - val_accuracy: 0.8814\n",
            "Accuracy: 87.03%\n"
          ],
          "name": "stdout"
        }
      ]
    },
    {
      "cell_type": "markdown",
      "metadata": {
        "id": "4Vs5X6Tjw39A"
      },
      "source": [
        "# User texts "
      ]
    },
    {
      "cell_type": "code",
      "metadata": {
        "id": "8R_Z0X2bw6dK"
      },
      "source": [
        "def text_to_index_list(text):\n",
        "    text = text.lower().replace(',', '').replace('.', '').replace('\\'', '').replace('!', '').replace('(', '').replace(')', '')  # TODO: сделать по-нормальному\n",
        "    \n",
        "    encode_dict = {k:(v+3) for k,v in imdb.get_word_index().items()}\n",
        "\n",
        "    return [encode_dict[word] for word in text.split() if word in encode_dict]"
      ],
      "execution_count": 22,
      "outputs": []
    },
    {
      "cell_type": "code",
      "metadata": {
        "colab": {
          "base_uri": "https://localhost:8080/"
        },
        "id": "ibk7HDB5w6hY",
        "outputId": "20499835-1200-4028-d329-f593abd8eca4"
      },
      "source": [
        "text = 'I like Eugene Levy and love Catherine O\\'Hara\\'s other work, but this just might be their worst. The lead characters are some of the most annoying and unlikeable people I could ever encounter. I do not find one thing funny about them. I am happy Catherine O\\'Hara is receiving accolades though. She deserved it for many of her other roles.'\n",
        "\n",
        "index_list = [[index if index < num_words else 0 for index in text_to_index_list(text)]]\n",
        "index_list = sequence.pad_sequences(index_list, maxlen=max_review_length)\n",
        "\n",
        "model.predict(index_list)"
      ],
      "execution_count": 23,
      "outputs": [
        {
          "output_type": "execute_result",
          "data": {
            "text/plain": [
              "array([[0.01124315]], dtype=float32)"
            ]
          },
          "metadata": {
            "tags": []
          },
          "execution_count": 23
        }
      ]
    }
  ]
}